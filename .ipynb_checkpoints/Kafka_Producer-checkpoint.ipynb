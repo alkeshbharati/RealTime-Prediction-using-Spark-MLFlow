{
 "cells": [
  {
   "cell_type": "code",
   "execution_count": null,
   "metadata": {},
   "outputs": [],
   "source": [
    "import uuid\n",
    "from confluent_kafka import Producer\n",
    "import json\n",
    "import requests\n",
    "from pandas import DataFrame"
   ]
  },
  {
   "cell_type": "code",
   "execution_count": null,
   "metadata": {},
   "outputs": [],
   "source": [
    "base_message = {\n",
    "    \"columns\":[\"DAY_OF_MONTH\",\"DAY_OF_WEEK\",\"OP_CARRIER\",\"ORIGIN\",\"DEST\",\"DEP_DELAY\"],\n",
    "    \"data\":[]\n",
    "}\n",
    "params = {\n",
    "  'access_key': '43a97a00efecdc3d5fcb7ad9d3f07f38',\n",
    "  'flight_date' : '2020-08-14',\n",
    "  'flight_status': 'active',\n",
    "  'departure': {\n",
    "        'dep_iata' : 'SFO'\n",
    "    }  \n",
    "}\n",
    "\n",
    "api_result = requests.get('https://api.aviationstack.com/v1/flights', params)\n",
    "\n",
    "api_response = api_result.json()\n",
    "\n",
    "flight_data = []\n",
    "for flight in api_response['results']:\n",
    "    this_flight_data = [flight['DAY_OF_MONTH'], flight['DAY_OF_WEEK'],flight['airline']['iata']flight['departure']['iata']flight['arrival']['iata']flight['departure']['delay']]\n",
    "    flight_data.append(this_flight_data)"
   ]
  },
  {
   "cell_type": "code",
   "execution_count": null,
   "metadata": {},
   "outputs": [],
   "source": [
    "df = DataFrame (flight_data,columns=[\"DAY_OF_MONTH\",\"DAY_OF_WEEK\",\"OP_CARRIER\",\"ORIGIN\",\"DEST\",\"DEP_DELAY\"])\n",
    "flight_data=df.values.tolist()"
   ]
  },
  {
   "cell_type": "code",
   "execution_count": null,
   "metadata": {},
   "outputs": [],
   "source": [
    "bootstrap_servers='127.0.0.1:9092'\n",
    "topic='flight'\n",
    "msg_count=5"
   ]
  },
  {
   "cell_type": "code",
   "execution_count": null,
   "metadata": {},
   "outputs": [],
   "source": [
    "def delivery_report(err, msg):\n",
    "    \"\"\" Called once for each message produced to indicate delivery result.\n",
    "        Triggered by poll() or flush(). \"\"\"\n",
    "    if err is not None:\n",
    "        print('Message delivery failed: {}'.format(err))\n",
    "    else:\n",
    "        print('Message delivered to {}'.format(msg.topic()))\n",
    "\n",
    "def confluent_kafka_producer():\n",
    "\n",
    "    p = Producer({'bootstrap.servers': bootstrap_servers})\n",
    "    for flight in flight_data:\n",
    "\n",
    "        record_key = str(uuid.uuid4())\n",
    "        base_message['data'] = [flight]\n",
    "        record_value = json.dumps(base_message)\n",
    "\n",
    "        p.produce(topic, key=record_key, value=record_value, on_delivery=delivery_report)\n",
    "        p.poll(0)\n",
    "\n",
    "    p.flush()\n",
    "    print('we\\'ve sent {count} messages to {brokers}'.format(count=len(credit_transactions), brokers=bootstrap_servers))"
   ]
  },
  {
   "cell_type": "code",
   "execution_count": null,
   "metadata": {},
   "outputs": [],
   "source": [
    "# run the producer and add some data to kafka\n",
    "confluent_kafka_producer()"
   ]
  },
  {
   "cell_type": "code",
   "execution_count": null,
   "metadata": {},
   "outputs": [],
   "source": []
  }
 ],
 "metadata": {
  "kernelspec": {
   "display_name": "Python 3",
   "language": "python",
   "name": "python3"
  },
  "language_info": {
   "codemirror_mode": {
    "name": "ipython",
    "version": 3
   },
   "file_extension": ".py",
   "mimetype": "text/x-python",
   "name": "python",
   "nbconvert_exporter": "python",
   "pygments_lexer": "ipython3",
   "version": "3.7.6"
  }
 },
 "nbformat": 4,
 "nbformat_minor": 4
}
